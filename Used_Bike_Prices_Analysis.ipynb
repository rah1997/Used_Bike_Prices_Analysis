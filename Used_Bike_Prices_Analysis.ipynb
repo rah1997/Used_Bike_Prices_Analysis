{
 "cells": [
  {
   "cell_type": "markdown",
   "id": "535d84a2",
   "metadata": {},
   "source": [
    "# Used Bike Price Analysis"
   ]
  },
  {
   "cell_type": "markdown",
   "id": "2037fea7",
   "metadata": {},
   "source": [
    "A used bike company is expanding its market in various India cities to meet customer demand and make more profit. The aim of the analysis is to find more about the market position in those cities to help the company make informed decisions based on those findings.\n",
    "\n",
    "Objectives Questions to answer:\n",
    "\n",
    "    1.What is the average bike price for each owner category?\n",
    "    2.What is the top 5 cities with highest average bike price?\n",
    "    3.What is the top 5 cities with highest selling rate?\n",
    "    4.What is the top 5 selling models?\n",
    "    5.Which top 5 brand category sell the most?\n"
   ]
  },
  {
   "cell_type": "markdown",
   "id": "bb92cc47",
   "metadata": {},
   "source": [
    " Importing modules"
   ]
  },
  {
   "cell_type": "code",
   "execution_count": 2,
   "id": "a276e046",
   "metadata": {},
   "outputs": [],
   "source": [
    "import pandas as pd\n",
    "import matplotlib.pyplot as plt\n",
    "from tabulate import tabulate\n",
    "import warnings\n",
    "warnings.filterwarnings('ignore')"
   ]
  },
  {
   "cell_type": "code",
   "execution_count": null,
   "id": "93d8b5ca",
   "metadata": {},
   "outputs": [],
   "source": [
    "Load data into python"
   ]
  },
  {
   "cell_type": "code",
   "execution_count": 3,
   "id": "bca47c3d",
   "metadata": {},
   "outputs": [],
   "source": [
    "#Read and store the csv file in a dataframe named bike_df\n",
    "bike_df=pd.read_csv(r\"C:\\Users\\PUSHPALATA MALI\\Downloads\\bikes.csv\")"
   ]
  },
  {
   "cell_type": "code",
   "execution_count": 4,
   "id": "2a5fae9c",
   "metadata": {},
   "outputs": [
    {
     "data": {
      "text/html": [
       "<div>\n",
       "<style scoped>\n",
       "    .dataframe tbody tr th:only-of-type {\n",
       "        vertical-align: middle;\n",
       "    }\n",
       "\n",
       "    .dataframe tbody tr th {\n",
       "        vertical-align: top;\n",
       "    }\n",
       "\n",
       "    .dataframe thead th {\n",
       "        text-align: right;\n",
       "    }\n",
       "</style>\n",
       "<table border=\"1\" class=\"dataframe\">\n",
       "  <thead>\n",
       "    <tr style=\"text-align: right;\">\n",
       "      <th></th>\n",
       "      <th>model_name</th>\n",
       "      <th>model_year</th>\n",
       "      <th>kms_driven</th>\n",
       "      <th>owner</th>\n",
       "      <th>location</th>\n",
       "      <th>mileage</th>\n",
       "      <th>power</th>\n",
       "      <th>price</th>\n",
       "    </tr>\n",
       "  </thead>\n",
       "  <tbody>\n",
       "    <tr>\n",
       "      <th>0</th>\n",
       "      <td>Bajaj Avenger Cruise 220 2017</td>\n",
       "      <td>2017</td>\n",
       "      <td>17000 Km</td>\n",
       "      <td>first owner</td>\n",
       "      <td>hyderabad</td>\n",
       "      <td>\\n\\n 35 kmpl</td>\n",
       "      <td>19 bhp</td>\n",
       "      <td>63500</td>\n",
       "    </tr>\n",
       "    <tr>\n",
       "      <th>1</th>\n",
       "      <td>Royal Enfield Classic 350cc 2016</td>\n",
       "      <td>2016</td>\n",
       "      <td>50000 Km</td>\n",
       "      <td>first owner</td>\n",
       "      <td>hyderabad</td>\n",
       "      <td>\\n\\n 35 kmpl</td>\n",
       "      <td>19.80 bhp</td>\n",
       "      <td>115000</td>\n",
       "    </tr>\n",
       "    <tr>\n",
       "      <th>2</th>\n",
       "      <td>Hyosung GT250R 2012</td>\n",
       "      <td>2012</td>\n",
       "      <td>14795 Km</td>\n",
       "      <td>first owner</td>\n",
       "      <td>hyderabad</td>\n",
       "      <td>\\n\\n 30 kmpl</td>\n",
       "      <td>28 bhp</td>\n",
       "      <td>300000</td>\n",
       "    </tr>\n",
       "    <tr>\n",
       "      <th>3</th>\n",
       "      <td>Bajaj Dominar 400 ABS 2017</td>\n",
       "      <td>2017</td>\n",
       "      <td>Mileage 28 Kms</td>\n",
       "      <td>first owner</td>\n",
       "      <td>pondicherry</td>\n",
       "      <td>\\n\\n 28 Kms</td>\n",
       "      <td>34.50 bhp</td>\n",
       "      <td>100000</td>\n",
       "    </tr>\n",
       "    <tr>\n",
       "      <th>4</th>\n",
       "      <td>Jawa Perak 330cc 2020</td>\n",
       "      <td>2020</td>\n",
       "      <td>2000 Km</td>\n",
       "      <td>first owner</td>\n",
       "      <td>bangalore</td>\n",
       "      <td>\\n\\n</td>\n",
       "      <td>30 bhp</td>\n",
       "      <td>197500</td>\n",
       "    </tr>\n",
       "  </tbody>\n",
       "</table>\n",
       "</div>"
      ],
      "text/plain": [
       "                         model_name  model_year      kms_driven        owner  \\\n",
       "0     Bajaj Avenger Cruise 220 2017        2017        17000 Km  first owner   \n",
       "1  Royal Enfield Classic 350cc 2016        2016        50000 Km  first owner   \n",
       "2               Hyosung GT250R 2012        2012        14795 Km  first owner   \n",
       "3        Bajaj Dominar 400 ABS 2017        2017  Mileage 28 Kms  first owner   \n",
       "4             Jawa Perak 330cc 2020        2020         2000 Km  first owner   \n",
       "\n",
       "      location       mileage      power   price  \n",
       "0    hyderabad  \\n\\n 35 kmpl     19 bhp   63500  \n",
       "1    hyderabad  \\n\\n 35 kmpl  19.80 bhp  115000  \n",
       "2    hyderabad  \\n\\n 30 kmpl     28 bhp  300000  \n",
       "3  pondicherry   \\n\\n 28 Kms  34.50 bhp  100000  \n",
       "4    bangalore         \\n\\n      30 bhp  197500  "
      ]
     },
     "execution_count": 4,
     "metadata": {},
     "output_type": "execute_result"
    }
   ],
   "source": [
    "#Quick overview of dataset\n",
    "bike_df.head()"
   ]
  },
  {
   "cell_type": "code",
   "execution_count": 5,
   "id": "a6ab485d",
   "metadata": {},
   "outputs": [
    {
     "data": {
      "text/plain": [
       "model_name    object\n",
       "model_year     int64\n",
       "kms_driven    object\n",
       "owner         object\n",
       "location      object\n",
       "mileage       object\n",
       "power         object\n",
       "price          int64\n",
       "dtype: object"
      ]
     },
     "execution_count": 5,
     "metadata": {},
     "output_type": "execute_result"
    }
   ],
   "source": [
    "#Check the type of features. \n",
    "bike_df.dtypes"
   ]
  },
  {
   "cell_type": "code",
   "execution_count": 7,
   "id": "b88d5ba7",
   "metadata": {},
   "outputs": [
    {
     "data": {
      "text/html": [
       "<div>\n",
       "<style scoped>\n",
       "    .dataframe tbody tr th:only-of-type {\n",
       "        vertical-align: middle;\n",
       "    }\n",
       "\n",
       "    .dataframe tbody tr th {\n",
       "        vertical-align: top;\n",
       "    }\n",
       "\n",
       "    .dataframe thead th {\n",
       "        text-align: right;\n",
       "    }\n",
       "</style>\n",
       "<table border=\"1\" class=\"dataframe\">\n",
       "  <thead>\n",
       "    <tr style=\"text-align: right;\">\n",
       "      <th></th>\n",
       "      <th>model_name</th>\n",
       "      <th>kms_driven</th>\n",
       "      <th>owner</th>\n",
       "      <th>location</th>\n",
       "      <th>mileage</th>\n",
       "      <th>power</th>\n",
       "    </tr>\n",
       "  </thead>\n",
       "  <tbody>\n",
       "    <tr>\n",
       "      <th>count</th>\n",
       "      <td>7857</td>\n",
       "      <td>7857</td>\n",
       "      <td>7857</td>\n",
       "      <td>7838</td>\n",
       "      <td>7846</td>\n",
       "      <td>7826</td>\n",
       "    </tr>\n",
       "    <tr>\n",
       "      <th>unique</th>\n",
       "      <td>1724</td>\n",
       "      <td>1801</td>\n",
       "      <td>4</td>\n",
       "      <td>561</td>\n",
       "      <td>117</td>\n",
       "      <td>272</td>\n",
       "    </tr>\n",
       "    <tr>\n",
       "      <th>top</th>\n",
       "      <td>Royal Enfield Classic 350cc 2017</td>\n",
       "      <td>Mileage 65 Kmpl</td>\n",
       "      <td>first owner</td>\n",
       "      <td>delhi</td>\n",
       "      <td>\\n\\n 35 kmpl</td>\n",
       "      <td>19.80 bhp</td>\n",
       "    </tr>\n",
       "    <tr>\n",
       "      <th>freq</th>\n",
       "      <td>78</td>\n",
       "      <td>436</td>\n",
       "      <td>6817</td>\n",
       "      <td>1438</td>\n",
       "      <td>1071</td>\n",
       "      <td>922</td>\n",
       "    </tr>\n",
       "  </tbody>\n",
       "</table>\n",
       "</div>"
      ],
      "text/plain": [
       "                              model_name       kms_driven        owner  \\\n",
       "count                               7857             7857         7857   \n",
       "unique                              1724             1801            4   \n",
       "top     Royal Enfield Classic 350cc 2017  Mileage 65 Kmpl  first owner   \n",
       "freq                                  78              436         6817   \n",
       "\n",
       "       location       mileage      power  \n",
       "count      7838          7846       7826  \n",
       "unique      561           117        272  \n",
       "top       delhi  \\n\\n 35 kmpl  19.80 bhp  \n",
       "freq       1438          1071        922  "
      ]
     },
     "execution_count": 7,
     "metadata": {},
     "output_type": "execute_result"
    }
   ],
   "source": [
    "\n",
    "\n",
    "#Frequency of charactere variables\n",
    "bike_df.describe(include=['object'])\n",
    "\n"
   ]
  },
  {
   "cell_type": "code",
   "execution_count": 8,
   "id": "b9213d68",
   "metadata": {},
   "outputs": [
    {
     "name": "stdout",
     "output_type": "stream",
     "text": [
      "<class 'pandas.core.frame.DataFrame'>\n",
      "RangeIndex: 7857 entries, 0 to 7856\n",
      "Data columns (total 8 columns):\n",
      " #   Column      Non-Null Count  Dtype \n",
      "---  ------      --------------  ----- \n",
      " 0   model_name  7857 non-null   object\n",
      " 1   model_year  7857 non-null   int64 \n",
      " 2   kms_driven  7857 non-null   object\n",
      " 3   owner       7857 non-null   object\n",
      " 4   location    7838 non-null   object\n",
      " 5   mileage     7846 non-null   object\n",
      " 6   power       7826 non-null   object\n",
      " 7   price       7857 non-null   int64 \n",
      "dtypes: int64(2), object(6)\n",
      "memory usage: 491.2+ KB\n"
     ]
    },
    {
     "data": {
      "text/plain": [
       "model_name    False\n",
       "model_year    False\n",
       "kms_driven    False\n",
       "owner         False\n",
       "location       True\n",
       "mileage        True\n",
       "power          True\n",
       "price         False\n",
       "dtype: bool"
      ]
     },
     "execution_count": 8,
     "metadata": {},
     "output_type": "execute_result"
    }
   ],
   "source": [
    "#Checking if there are missing values in our dataset\n",
    "bike_df.info()\n",
    "bike_df.isna().any()"
   ]
  },
  {
   "cell_type": "code",
   "execution_count": 9,
   "id": "8a14e8ea",
   "metadata": {},
   "outputs": [
    {
     "data": {
      "text/plain": [
       "(7857, 8)"
      ]
     },
     "execution_count": 9,
     "metadata": {},
     "output_type": "execute_result"
    }
   ],
   "source": [
    "#The dataset contains a total number of 32648 observations and 8 columns.\n",
    "bike_df.shape"
   ]
  },
  {
   "cell_type": "code",
   "execution_count": 10,
   "id": "0df89eac",
   "metadata": {},
   "outputs": [
    {
     "data": {
      "text/plain": [
       "0       False\n",
       "1       False\n",
       "2       False\n",
       "3       False\n",
       "4       False\n",
       "        ...  \n",
       "7852    False\n",
       "7853    False\n",
       "7854    False\n",
       "7855    False\n",
       "7856    False\n",
       "Length: 7857, dtype: bool"
      ]
     },
     "execution_count": 10,
     "metadata": {},
     "output_type": "execute_result"
    }
   ],
   "source": [
    "#Check for duplicate values\n",
    "bike_df.duplicated()"
   ]
  },
  {
   "cell_type": "code",
   "execution_count": 11,
   "id": "54991bc6",
   "metadata": {},
   "outputs": [
    {
     "data": {
      "text/html": [
       "<div>\n",
       "<style scoped>\n",
       "    .dataframe tbody tr th:only-of-type {\n",
       "        vertical-align: middle;\n",
       "    }\n",
       "\n",
       "    .dataframe tbody tr th {\n",
       "        vertical-align: top;\n",
       "    }\n",
       "\n",
       "    .dataframe thead th {\n",
       "        text-align: right;\n",
       "    }\n",
       "</style>\n",
       "<table border=\"1\" class=\"dataframe\">\n",
       "  <thead>\n",
       "    <tr style=\"text-align: right;\">\n",
       "      <th></th>\n",
       "      <th>model_name</th>\n",
       "      <th>model_year</th>\n",
       "      <th>kms_driven</th>\n",
       "      <th>owner</th>\n",
       "      <th>location</th>\n",
       "      <th>mileage</th>\n",
       "      <th>power</th>\n",
       "      <th>price</th>\n",
       "    </tr>\n",
       "  </thead>\n",
       "  <tbody>\n",
       "    <tr>\n",
       "      <th>0</th>\n",
       "      <td>Bajaj Avenger Cruise 220 2017</td>\n",
       "      <td>2017</td>\n",
       "      <td>17000 Km</td>\n",
       "      <td>first owner</td>\n",
       "      <td>hyderabad</td>\n",
       "      <td>\\n\\n 35 kmpl</td>\n",
       "      <td>19 bhp</td>\n",
       "      <td>63500</td>\n",
       "    </tr>\n",
       "    <tr>\n",
       "      <th>1</th>\n",
       "      <td>Royal Enfield Classic 350cc 2016</td>\n",
       "      <td>2016</td>\n",
       "      <td>50000 Km</td>\n",
       "      <td>first owner</td>\n",
       "      <td>hyderabad</td>\n",
       "      <td>\\n\\n 35 kmpl</td>\n",
       "      <td>19.80 bhp</td>\n",
       "      <td>115000</td>\n",
       "    </tr>\n",
       "    <tr>\n",
       "      <th>2</th>\n",
       "      <td>Hyosung GT250R 2012</td>\n",
       "      <td>2012</td>\n",
       "      <td>14795 Km</td>\n",
       "      <td>first owner</td>\n",
       "      <td>hyderabad</td>\n",
       "      <td>\\n\\n 30 kmpl</td>\n",
       "      <td>28 bhp</td>\n",
       "      <td>300000</td>\n",
       "    </tr>\n",
       "    <tr>\n",
       "      <th>3</th>\n",
       "      <td>Bajaj Dominar 400 ABS 2017</td>\n",
       "      <td>2017</td>\n",
       "      <td>Mileage 28 Kms</td>\n",
       "      <td>first owner</td>\n",
       "      <td>pondicherry</td>\n",
       "      <td>\\n\\n 28 Kms</td>\n",
       "      <td>34.50 bhp</td>\n",
       "      <td>100000</td>\n",
       "    </tr>\n",
       "    <tr>\n",
       "      <th>4</th>\n",
       "      <td>Jawa Perak 330cc 2020</td>\n",
       "      <td>2020</td>\n",
       "      <td>2000 Km</td>\n",
       "      <td>first owner</td>\n",
       "      <td>bangalore</td>\n",
       "      <td>\\n\\n</td>\n",
       "      <td>30 bhp</td>\n",
       "      <td>197500</td>\n",
       "    </tr>\n",
       "    <tr>\n",
       "      <th>...</th>\n",
       "      <td>...</td>\n",
       "      <td>...</td>\n",
       "      <td>...</td>\n",
       "      <td>...</td>\n",
       "      <td>...</td>\n",
       "      <td>...</td>\n",
       "      <td>...</td>\n",
       "      <td>...</td>\n",
       "    </tr>\n",
       "    <tr>\n",
       "      <th>7852</th>\n",
       "      <td>Yamaha YZF-R15 150cc 2011</td>\n",
       "      <td>2011</td>\n",
       "      <td>7000 Km</td>\n",
       "      <td>first owner</td>\n",
       "      <td>agra</td>\n",
       "      <td>\\n\\n 42 kmpl</td>\n",
       "      <td>16 bhp</td>\n",
       "      <td>55000</td>\n",
       "    </tr>\n",
       "    <tr>\n",
       "      <th>7853</th>\n",
       "      <td>Bajaj Discover 100cc 2015</td>\n",
       "      <td>2015</td>\n",
       "      <td>Mileage 80 Kmpl</td>\n",
       "      <td>first owner</td>\n",
       "      <td>delhi</td>\n",
       "      <td>\\n\\n 80 Kmpl</td>\n",
       "      <td>7.7</td>\n",
       "      <td>28000</td>\n",
       "    </tr>\n",
       "    <tr>\n",
       "      <th>7854</th>\n",
       "      <td>Bajaj Pulsar 180cc 2016</td>\n",
       "      <td>2016</td>\n",
       "      <td>6407 Km</td>\n",
       "      <td>first owner</td>\n",
       "      <td>bangalore</td>\n",
       "      <td>\\n\\n 65 kmpl</td>\n",
       "      <td>17 bhp</td>\n",
       "      <td>61740</td>\n",
       "    </tr>\n",
       "    <tr>\n",
       "      <th>7855</th>\n",
       "      <td>Bajaj V15 150cc 2016</td>\n",
       "      <td>2016</td>\n",
       "      <td>7524 Km</td>\n",
       "      <td>first owner</td>\n",
       "      <td>bangalore</td>\n",
       "      <td>\\n\\n 57 kmpl</td>\n",
       "      <td>11.80 bhp</td>\n",
       "      <td>49000</td>\n",
       "    </tr>\n",
       "    <tr>\n",
       "      <th>7856</th>\n",
       "      <td>Bajaj Pulsar 220cc 2016</td>\n",
       "      <td>2016</td>\n",
       "      <td>15000 Km</td>\n",
       "      <td>first owner</td>\n",
       "      <td>chennai</td>\n",
       "      <td>\\n\\n 38 kmpl</td>\n",
       "      <td>21 bhp</td>\n",
       "      <td>65000</td>\n",
       "    </tr>\n",
       "  </tbody>\n",
       "</table>\n",
       "<p>7857 rows × 8 columns</p>\n",
       "</div>"
      ],
      "text/plain": [
       "                            model_name  model_year       kms_driven  \\\n",
       "0        Bajaj Avenger Cruise 220 2017        2017         17000 Km   \n",
       "1     Royal Enfield Classic 350cc 2016        2016         50000 Km   \n",
       "2                  Hyosung GT250R 2012        2012         14795 Km   \n",
       "3           Bajaj Dominar 400 ABS 2017        2017   Mileage 28 Kms   \n",
       "4                Jawa Perak 330cc 2020        2020          2000 Km   \n",
       "...                                ...         ...              ...   \n",
       "7852         Yamaha YZF-R15 150cc 2011        2011          7000 Km   \n",
       "7853         Bajaj Discover 100cc 2015        2015  Mileage 80 Kmpl   \n",
       "7854           Bajaj Pulsar 180cc 2016        2016          6407 Km   \n",
       "7855              Bajaj V15 150cc 2016        2016          7524 Km   \n",
       "7856           Bajaj Pulsar 220cc 2016        2016         15000 Km   \n",
       "\n",
       "            owner     location       mileage      power   price  \n",
       "0     first owner    hyderabad  \\n\\n 35 kmpl     19 bhp   63500  \n",
       "1     first owner    hyderabad  \\n\\n 35 kmpl  19.80 bhp  115000  \n",
       "2     first owner    hyderabad  \\n\\n 30 kmpl     28 bhp  300000  \n",
       "3     first owner  pondicherry   \\n\\n 28 Kms  34.50 bhp  100000  \n",
       "4     first owner    bangalore         \\n\\n      30 bhp  197500  \n",
       "...           ...          ...           ...        ...     ...  \n",
       "7852  first owner         agra  \\n\\n 42 kmpl     16 bhp   55000  \n",
       "7853  first owner        delhi  \\n\\n 80 Kmpl        7.7   28000  \n",
       "7854  first owner    bangalore  \\n\\n 65 kmpl     17 bhp   61740  \n",
       "7855  first owner    bangalore  \\n\\n 57 kmpl  11.80 bhp   49000  \n",
       "7856  first owner      chennai  \\n\\n 38 kmpl     21 bhp   65000  \n",
       "\n",
       "[7857 rows x 8 columns]"
      ]
     },
     "execution_count": 11,
     "metadata": {},
     "output_type": "execute_result"
    }
   ],
   "source": [
    "#Remove duplicate values\n",
    "bike_df.drop_duplicates()"
   ]
  },
  {
   "cell_type": "markdown",
   "id": "3ecb45a4",
   "metadata": {},
   "source": [
    "# Analysis\n",
    "1. What is the average bike price for each owner category?"
   ]
  },
  {
   "cell_type": "code",
   "execution_count": 12,
   "id": "63ff1797",
   "metadata": {},
   "outputs": [
    {
     "data": {
      "text/plain": [
       "owner\n",
       "first owner             108937.902303\n",
       "fourth owner or more     61718.068493\n",
       "second owner             98173.126050\n",
       "third owner              75718.067164\n",
       "Name: price, dtype: float64"
      ]
     },
     "execution_count": 12,
     "metadata": {},
     "output_type": "execute_result"
    }
   ],
   "source": [
    "#Average bike price by owner category\n",
    "bike_df.groupby(['owner'])['price'].mean()"
   ]
  },
  {
   "cell_type": "code",
   "execution_count": 13,
   "id": "10b9350f",
   "metadata": {},
   "outputs": [
    {
     "data": {
      "image/png": "[encoded data removed]",
      "text/plain": [
       "<Figure size 576x432 with 1 Axes>"
      ]
     },
     "metadata": {
      "needs_background": "light"
     },
     "output_type": "display_data"
    }
   ],
   "source": [
    "# Average bike prices for each owner category\n",
    "owner_categories = ['First Owner', 'Second Owner', 'Third Owner', 'Fourth Owner or More']\n",
    "average_prices = [69512.42, 53552.26, 81431.92, 61332.50]\n",
    "\n",
    "# Create bar chart\n",
    "plt.figure(figsize=(8, 6))\n",
    "bars = plt.bar(owner_categories, average_prices, color='skyblue')\n",
    "\n",
    "# Add labels and title\n",
    "plt.xlabel('Owner Category')\n",
    "plt.ylabel('Average Bike Price')\n",
    "plt.title('Average Bike Price by Owner Category')\n",
    "\n",
    "# Add annotations\n",
    "for bar, price in zip(bars, average_prices):\n",
    "    plt.text(bar.get_x() + bar.get_width() / 2, bar.get_height(), f'{price:.2f}', \n",
    "             ha='center', va='bottom')\n",
    "\n",
    "# Show plot\n",
    "plt.xticks(rotation=45)  # Rotate x-axis labels for better readability\n",
    "plt.tight_layout()  # Adjust layout to prevent clipping of labels\n",
    "plt.show()"
   ]
  },
  {
   "cell_type": "markdown",
   "id": "7d8ba104",
   "metadata": {},
   "source": [
    "2. What is top 5 Cities with Highest Average Bike Price?"
   ]
  },
  {
   "cell_type": "code",
   "execution_count": 15,
   "id": "326ab35a",
   "metadata": {},
   "outputs": [
    {
     "name": "stdout",
     "output_type": "stream",
     "text": [
      "Top 5 Cities with Highest Average Bike Prices\n",
      "location\n",
      "maradu     1200000.0\n",
      "daman      1150000.0\n",
      "dimapur     950000.0\n",
      "raikot      780000.0\n",
      "hardoi      700000.0\n",
      "Name: price, dtype: float64\n"
     ]
    }
   ],
   "source": [
    "# Calculate average bike price by city\n",
    "average_prices = bike_df.groupby(['location'])['price'].mean()\n",
    "\n",
    "# Top 5 cities with highest average bike prices\n",
    "top_5_cities = average_prices.nlargest(5)\n",
    "\n",
    "print(\"Top 5 Cities with Highest Average Bike Prices\")\n",
    "print(top_5_cities)"
   ]
  },
  {
   "cell_type": "code",
   "execution_count": 16,
   "id": "65b86b08",
   "metadata": {},
   "outputs": [
    {
     "data": {
      "image/png": "[encoded data removed]",
      "text/plain": [
       "<Figure size 720x432 with 1 Axes>"
      ]
     },
     "metadata": {
      "needs_background": "light"
     },
     "output_type": "display_data"
    }
   ],
   "source": [
    "# Plot\n",
    "    \n",
    "# Create bar chart for top 5 cities\n",
    "plt.figure(figsize=(10, 6))\n",
    "bars = plt.bar(top_5_cities.index, top_5_cities.values, color='skyblue')\n",
    "\n",
    "# Add labels and title\n",
    "plt.xlabel('City')\n",
    "plt.ylabel('Average Bike Price')\n",
    "plt.title('Top 5 Cities with Highest Average Bike Prices')\n",
    "\n",
    "# Add average price on top of each bar without decimal\n",
    "for bar, price in zip(bars, top_5_cities.values):\n",
    "    plt.text(bar.get_x() + bar.get_width() / 2, bar.get_height(), f'{int(price)}', ha='center', va='bottom')\n",
    "\n",
    "# Rotate x-axis labels for better readability\n",
    "plt.xticks(rotation=45, ha='right')\n",
    "\n",
    "# Show plot\n",
    "plt.tight_layout()  # Adjust layout to prevent clipping of labels\n",
    "plt.show()"
   ]
  },
  {
   "cell_type": "markdown",
   "id": "31b5813d",
   "metadata": {},
   "source": [
    "3. What is top 5 cities with highest selling rate?"
   ]
  },
  {
   "cell_type": "code",
   "execution_count": 17,
   "id": "770f9649",
   "metadata": {},
   "outputs": [
    {
     "name": "stdout",
     "output_type": "stream",
     "text": [
      "Top 5 Cities with Highest Bike Selling Rate\n",
      "delhi        18.346517\n",
      "mumbai       10.933912\n",
      "bangalore     9.989793\n",
      "pune          4.376116\n",
      "hyderabad     4.299566\n",
      "Name: location, dtype: float64\n"
     ]
    }
   ],
   "source": [
    "# Calculate the percentage of bikes sold in each city\n",
    "city_percentages = (bike_df['location'].value_counts(normalize=True) * 100)\n",
    "\n",
    "# Top 5 cities with the highest percentages\n",
    "top_5_cities = city_percentages.nlargest(5)\n",
    "\n",
    "# Print the top 5 cities with their selling rates\n",
    "print(\"Top 5 Cities with Highest Bike Selling Rate\")\n",
    "print(top_5_cities)"
   ]
  },
  {
   "cell_type": "code",
   "execution_count": 18,
   "id": "9177eed9",
   "metadata": {},
   "outputs": [
    {
     "data": {
      "image/png": "[encoded data removed]",
      "text/plain": [
       "<Figure size 720x432 with 1 Axes>"
      ]
     },
     "metadata": {
      "needs_background": "light"
     },
     "output_type": "display_data"
    }
   ],
   "source": [
    "# Data for top 5 cities with their selling rates\n",
    "cities = ['Delhi', 'Bangalore', 'Mumbai', 'Hyderabad', 'Pune']\n",
    "selling_rates = [22.414849, 8.340480, 7.936168, 6.616025, 5.280568]\n",
    "\n",
    "# Create a bar chart\n",
    "plt.figure(figsize=(10, 6))\n",
    "bars = plt.bar(cities, selling_rates, color='grey')  # Changing color to 'grey'\n",
    "\n",
    "# Add percentages on top of each bar\n",
    "for bar in bars:\n",
    "    height = bar.get_height()\n",
    "    plt.text(bar.get_x() + bar.get_width() / 2, height, '%.1f%%' % height, ha='center', va='bottom')\n",
    "\n",
    "# Add labels and title\n",
    "plt.xlabel('City')\n",
    "plt.ylabel('Selling Rate (%)')\n",
    "plt.title('Top 5 Cities with Highest Bike Selling Rates')\n",
    "\n",
    "# Show the plot\n",
    "plt.xticks(rotation=45)  # Rotate x-axis labels for better readability\n",
    "plt.tight_layout()  # Adjust layout to prevent clipping of labels\n",
    "plt.show()"
   ]
  },
  {
   "cell_type": "markdown",
   "id": "a5d2ea10",
   "metadata": {},
   "source": [
    "4. What is the top 5 selling bike models?"
   ]
  },
  {
   "cell_type": "code",
   "execution_count": 20,
   "id": "586f6ccc",
   "metadata": {},
   "outputs": [
    {
     "name": "stdout",
     "output_type": "stream",
     "text": [
      "Top 5 Selling Bike Models\n",
      "Royal Enfield Classic 350cc 2017        78\n",
      "Royal Enfield Classic 350cc 2016        69\n",
      "Royal Enfield Classic 350cc 2015        68\n",
      "Royal Enfield Thunderbird 350cc 2015    64\n",
      "Royal Enfield Classic 350cc 2018        59\n",
      "Name: model_name, dtype: int64\n"
     ]
    }
   ],
   "source": [
    "# Top 5 selling bike models\n",
    "top_5_bike_models = bike_df['model_name'].value_counts().head(5)\n",
    "\n",
    "# Print the top 5 selling bike models\n",
    "print(\"Top 5 Selling Bike Models\")\n",
    "print(top_5_bike_models)"
   ]
  },
  {
   "cell_type": "code",
   "execution_count": 21,
   "id": "49f95c7a",
   "metadata": {},
   "outputs": [
    {
     "name": "stdout",
     "output_type": "stream",
     "text": [
      "Top 5 Selling Bike Models\n",
      "+--------------------------------------+-------------------+\n",
      "| Bike Model                           |   Number of Sales |\n",
      "+======================================+===================+\n",
      "| Royal Enfield Classic 350cc 2017     |                78 |\n",
      "+--------------------------------------+-------------------+\n",
      "| Royal Enfield Classic 350cc 2016     |                69 |\n",
      "+--------------------------------------+-------------------+\n",
      "| Royal Enfield Classic 350cc 2015     |                68 |\n",
      "+--------------------------------------+-------------------+\n",
      "| Royal Enfield Thunderbird 350cc 2015 |                64 |\n",
      "+--------------------------------------+-------------------+\n",
      "| Royal Enfield Classic 350cc 2018     |                59 |\n",
      "+--------------------------------------+-------------------+\n"
     ]
    }
   ],
   "source": [
    "# Top 5 selling bike models\n",
    "top_5_bike_models = bike_df['model_name'].value_counts().head(5)\n",
    "\n",
    "# Create a list of tuples for the data\n",
    "table_data = [(model, count) for model, count in zip(top_5_bike_models.index, top_5_bike_models.values)]\n",
    "\n",
    "# Display the table\n",
    "print(\"Top 5 Selling Bike Models\")\n",
    "print(tabulate(table_data, headers=['Bike Model', 'Number of Sales'], tablefmt='grid'))"
   ]
  },
  {
   "cell_type": "markdown",
   "id": "549a362a",
   "metadata": {},
   "source": [
    "5. What's top 5 brand categories with highest sales"
   ]
  },
  {
   "cell_type": "code",
   "execution_count": 24,
   "id": "e4115e5c",
   "metadata": {},
   "outputs": [
    {
     "name": "stdout",
     "output_type": "stream",
     "text": [
      "Top 5 Brand Categories with highest sales\n",
      "Royal Enfield Classic 350cc 2017        78\n",
      "Royal Enfield Classic 350cc 2016        69\n",
      "Royal Enfield Classic 350cc 2015        68\n",
      "Royal Enfield Thunderbird 350cc 2015    64\n",
      "Royal Enfield Classic 350cc 2018        59\n",
      "Name: model_name, dtype: int64\n"
     ]
    }
   ],
   "source": [
    "# Top 5 brand categories that sell the most\n",
    "top_5_brand_categories = bike_df['model_name'].value_counts().head(5)\n",
    "\n",
    "# Display the top 5 brand categories\n",
    "print(\"Top 5 Brand Categories with highest sales\")\n",
    "print(top_5_brand_categories)"
   ]
  },
  {
   "cell_type": "code",
   "execution_count": 25,
   "id": "3f5fc9c8",
   "metadata": {},
   "outputs": [
    {
     "data": {
      "image/png": "[encoded data removed]",
      "text/plain": [
       "<Figure size 720x432 with 1 Axes>"
      ]
     },
     "metadata": {
      "needs_background": "light"
     },
     "output_type": "display_data"
    }
   ],
   "source": [
    "# Top 5 brand categories with highest sales\n",
    "top_5_brand_categories = bike_df['model_name'].value_counts().head(5)\n",
    "\n",
    "# Create a bar chart\n",
    "plt.figure(figsize=(10, 6))\n",
    "bars = plt.bar(top_5_brand_categories.index, top_5_brand_categories.values, color='lightgrey')\n",
    "\n",
    "# Add labels and title\n",
    "plt.xlabel('Brand Category')\n",
    "plt.ylabel('Number of Sales')\n",
    "plt.title('top 5 brand categories with highest sales')\n",
    "\n",
    "# Add numbers on top of each bar\n",
    "for bar in bars:\n",
    "    yval = bar.get_height()\n",
    "    plt.text(bar.get_x() + bar.get_width()/2, yval, round(yval, 2), va='bottom', ha='center')\n",
    "\n",
    "# Show the plot\n",
    "plt.xticks(rotation=45)  # Rotate x-axis labels for better readability\n",
    "plt.tight_layout()  # Adjust layout to prevent clipping of labels\n",
    "plt.show()"
   ]
  },
  {
   "cell_type": "code",
   "execution_count": null,
   "id": "2a7803ff",
   "metadata": {},
   "outputs": [],
   "source": []
  },
  {
   "cell_type": "code",
   "execution_count": null,
   "id": "2fb77d49",
   "metadata": {},
   "outputs": [],
   "source": []
  },
  {
   "cell_type": "code",
   "execution_count": null,
   "id": "bbb7c35c",
   "metadata": {},
   "outputs": [],
   "source": []
  },
  {
   "cell_type": "code",
   "execution_count": null,
   "id": "83ffba7d",
   "metadata": {},
   "outputs": [],
   "source": []
  }
 ],
 "metadata": {
  "kernelspec": {
   "display_name": "Python 3 (ipykernel)",
   "language": "python",
   "name": "python3"
  },
  "language_info": {
   "codemirror_mode": {
    "name": "ipython",
    "version": 3
   },
   "file_extension": ".py",
   "mimetype": "text/x-python",
   "name": "python",
   "nbconvert_exporter": "python",
   "pygments_lexer": "ipython3",
   "version": "3.9.12"
  }
 },
 "nbformat": 4,
 "nbformat_minor": 5
}
